{
  "nbformat": 4,
  "nbformat_minor": 0,
  "metadata": {
    "colab": {
      "name": "Assignment1",
      "provenance": []
    },
    "kernelspec": {
      "name": "python3",
      "display_name": "Python 3"
    }
  },
  "cells": [
    {
      "cell_type": "code",
      "metadata": {
        "id": "SnT3tnB1oIta",
        "colab_type": "code",
        "colab": {}
      },
      "source": [
        ""
      ],
      "execution_count": 0,
      "outputs": []
    },
    {
      "cell_type": "code",
      "metadata": {
        "colab_type": "code",
        "id": "UKR0X5gxpK-s",
        "colab": {}
      },
      "source": [
        ""
      ],
      "execution_count": 0,
      "outputs": []
    },
    {
      "cell_type": "code",
      "metadata": {
        "id": "9lyNMvfXrmuf",
        "colab_type": "code",
        "outputId": "ec79701b-fa64-4260-9872-a29ccf00942c",
        "colab": {
          "base_uri": "https://localhost:8080/",
          "height": 204
        }
      },
      "source": [
        "#multiplcation table\n",
        "k=int(input(\"enter k value\"))\n",
        "i=1\n",
        "table=1\n",
        "while i<=10 :\n",
        "  table=k*i\n",
        "  print(k,\"*\",i,\"=\",table)\n",
        "  i=i+1\n",
        "  "
      ],
      "execution_count": 1,
      "outputs": [
        {
          "output_type": "stream",
          "text": [
            "enter k value5\n",
            "5 * 1 = 5\n",
            "5 * 2 = 10\n",
            "5 * 3 = 15\n",
            "5 * 4 = 20\n",
            "5 * 5 = 25\n",
            "5 * 6 = 30\n",
            "5 * 7 = 35\n",
            "5 * 8 = 40\n",
            "5 * 9 = 45\n",
            "5 * 10 = 50\n"
          ],
          "name": "stdout"
        }
      ]
    },
    {
      "cell_type": "code",
      "metadata": {
        "colab_type": "code",
        "id": "PDfoViVOoluF",
        "colab": {
          "base_uri": "https://localhost:8080/",
          "height": 85
        },
        "outputId": "ce0b847a-b586-4388-8abb-8aacf6a0e7e0"
      },
      "source": [
        "#roots of quadratic\n",
        "import math\n",
        "a = int(input(\"enter a coefficient\"))\n",
        "b = int(input(\"enter b coefficient\"))\n",
        "c = int(input(\"enter c coefficient\"))\n",
        "d = b * b - 4 * a * c\n",
        "if(d > 0):\n",
        "  root1 = (-b + math.sqrt(d)) / (2 * a)\n",
        "  root2 = (-b - math.sqrt(d)) / (2 * a)\n",
        "  print( \"the roots are\",root1, root2)\n",
        "elif(d==0):\n",
        "  root1 = root2 = -b / (2 * a)\n",
        "  print(\"roots are\",root1)\n",
        "else:\n",
        "  realPart = -b / (2 * a)\n",
        "  imagPart = math.sqrt(-d) / (2 * a)\n",
        "  print(\"roots are\",realPart,imagPart)"
      ],
      "execution_count": 2,
      "outputs": [
        {
          "output_type": "stream",
          "text": [
            "enter a coefficient1\n",
            "enter b coefficient5\n",
            "enter c coefficient6\n",
            "the roots are -2.0 -3.0\n"
          ],
          "name": "stdout"
        }
      ]
    },
    {
      "cell_type": "code",
      "metadata": {
        "id": "hftbaOSNpu3D",
        "colab_type": "code",
        "colab": {}
      },
      "source": [
        "\n"
      ],
      "execution_count": 0,
      "outputs": []
    },
    {
      "cell_type": "code",
      "metadata": {
        "id": "5xNAYAzCp7oW",
        "colab_type": "code",
        "colab": {
          "base_uri": "https://localhost:8080/",
          "height": 51
        },
        "outputId": "0148705c-b56e-4053-9606-06770dd4ea98"
      },
      "source": [
        "#convert decimal to binary\n",
        "i=1\n",
        "s=0\n",
        "n=int(input(\"Enter decimal: \"))\n",
        "while n>0:\n",
        "    rem=int(n%2)\n",
        "    s=s+(i*rem)\n",
        "    n=int(n/2)\n",
        "    i=i*10\n",
        "print (\"The binary form of the given number is \",s,'.')"
      ],
      "execution_count": 3,
      "outputs": [
        {
          "output_type": "stream",
          "text": [
            "Enter decimal: 15\n",
            "The binary form of the given number is  1111 .\n"
          ],
          "name": "stdout"
        }
      ]
    },
    {
      "cell_type": "code",
      "metadata": {
        "id": "EVNemntJqCn_",
        "colab_type": "code",
        "colab": {
          "base_uri": "https://localhost:8080/",
          "height": 187
        },
        "outputId": "94857b95-b9b1-46b7-d27e-4a48e816d090"
      },
      "source": [
        "#fibonocci series\n",
        "n=int(input(\"enter no.of terms\"))\n",
        "i=1\n",
        "t1=0\n",
        "t2=1\n",
        "while(i<n):\n",
        "  print(t1)\n",
        "  next=t1+t2\n",
        "  t1=t2\n",
        "  t2=next\n",
        "  i=i+1\n"
      ],
      "execution_count": 1,
      "outputs": [
        {
          "output_type": "stream",
          "text": [
            "enter no.of terms10\n",
            "0\n",
            "1\n",
            "1\n",
            "2\n",
            "3\n",
            "5\n",
            "8\n",
            "13\n",
            "21\n"
          ],
          "name": "stdout"
        }
      ]
    },
    {
      "cell_type": "code",
      "metadata": {
        "id": "WV_jUql4qNRT",
        "colab_type": "code",
        "colab": {
          "base_uri": "https://localhost:8080/",
          "height": 119
        },
        "outputId": "e5684ffd-662c-4a8b-80ac-e05f80b1494e"
      },
      "source": [
        "rows = int(input(\"Enter number of rows \"))\n",
        "for i in range(0, rows):\n",
        "    for j in range(0, i + 1):\n",
        "        print(\"*\", end=' ')\n",
        "\n",
        "    print(\"\\r\")\n",
        "\n"
      ],
      "execution_count": 2,
      "outputs": [
        {
          "output_type": "stream",
          "text": [
            "Enter number of rows 5\n",
            "* \n",
            "* * \n",
            "* * * \n",
            "* * * * \n",
            "* * * * * \n"
          ],
          "name": "stdout"
        }
      ]
    },
    {
      "cell_type": "code",
      "metadata": {
        "id": "3TdUxNffqgvN",
        "colab_type": "code",
        "colab": {}
      },
      "source": [
        "5"
      ],
      "execution_count": 0,
      "outputs": []
    }
  ]
}